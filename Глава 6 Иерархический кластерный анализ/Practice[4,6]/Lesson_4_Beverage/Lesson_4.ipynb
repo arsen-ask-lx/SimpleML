{
 "cells": [
  {
   "cell_type": "markdown",
   "metadata": {
    "collapsed": true,
    "jupyter": {
     "outputs_hidden": true
    }
   },
   "source": [
    "Иерархический кластерный анализ. Практика\n",
    "============="
   ]
  },
  {
   "cell_type": "markdown",
   "metadata": {},
   "source": [
    "Видеоматериал на YouTube (Вадим Аббакумов) [[ЛЕКЦИЯ_4]](https://www.youtube.com/watch?v=eDi8r-cI5d8&list=PLi7wcJNcND_a-RRHCh7BC3Ibj4J-t7FYu&index=4)\n"
   ]
  },
  {
   "cell_type": "markdown",
   "metadata": {
    "collapsed": true,
    "jupyter": {
     "outputs_hidden": true
    }
   },
   "source": [
    "Полезные ссылки:\n",
    "* https://docs.scipy.org/doc/scipy-0.14.0/reference/cluster.hierarchy.html\n",
    "* https://joernhees.de/blog/2015/08/26/scipy-hierarchical-clustering-and-dendrogram-tutorial/\n",
    "* http://scikit-learn.org/stable/modules/clustering.html"
   ]
  },
  {
   "cell_type": "markdown",
   "metadata": {},
   "source": [
    "Пример 1. Beverage\n",
    "--------"
   ]
  },
  {
   "cell_type": "code",
   "execution_count": 2,
   "metadata": {},
   "outputs": [],
   "source": [
    "#  Активируем библиотеки\n",
    "\n",
    "import numpy as np\n",
    "import pandas as pd\n",
    "\n",
    "import matplotlib\n",
    "import matplotlib.pyplot as plt\n",
    "matplotlib.style.use('ggplot')\n",
    "%matplotlib inline\n",
    "\n",
    "import os"
   ]
  },
  {
   "cell_type": "code",
   "execution_count": 19,
   "metadata": {},
   "outputs": [
    {
     "data": {
      "text/html": [
       "<div>\n",
       "<style scoped>\n",
       "    .dataframe tbody tr th:only-of-type {\n",
       "        vertical-align: middle;\n",
       "    }\n",
       "\n",
       "    .dataframe tbody tr th {\n",
       "        vertical-align: top;\n",
       "    }\n",
       "\n",
       "    .dataframe thead th {\n",
       "        text-align: right;\n",
       "    }\n",
       "</style>\n",
       "<table border=\"1\" class=\"dataframe\">\n",
       "  <thead>\n",
       "    <tr style=\"text-align: right;\">\n",
       "      <th></th>\n",
       "      <th>COKE</th>\n",
       "      <th>D_COKE</th>\n",
       "      <th>D_PEPSI</th>\n",
       "      <th>D_7UP</th>\n",
       "      <th>PEPSI</th>\n",
       "      <th>SPRITE</th>\n",
       "      <th>TAB</th>\n",
       "      <th>SEVENUP</th>\n",
       "    </tr>\n",
       "    <tr>\n",
       "      <th>numb.obs</th>\n",
       "      <th></th>\n",
       "      <th></th>\n",
       "      <th></th>\n",
       "      <th></th>\n",
       "      <th></th>\n",
       "      <th></th>\n",
       "      <th></th>\n",
       "      <th></th>\n",
       "    </tr>\n",
       "  </thead>\n",
       "  <tbody>\n",
       "    <tr>\n",
       "      <th>1</th>\n",
       "      <td>1</td>\n",
       "      <td>0</td>\n",
       "      <td>0</td>\n",
       "      <td>0</td>\n",
       "      <td>1</td>\n",
       "      <td>1</td>\n",
       "      <td>0</td>\n",
       "      <td>1</td>\n",
       "    </tr>\n",
       "    <tr>\n",
       "      <th>2</th>\n",
       "      <td>1</td>\n",
       "      <td>0</td>\n",
       "      <td>0</td>\n",
       "      <td>0</td>\n",
       "      <td>1</td>\n",
       "      <td>0</td>\n",
       "      <td>0</td>\n",
       "      <td>0</td>\n",
       "    </tr>\n",
       "    <tr>\n",
       "      <th>3</th>\n",
       "      <td>1</td>\n",
       "      <td>0</td>\n",
       "      <td>0</td>\n",
       "      <td>0</td>\n",
       "      <td>1</td>\n",
       "      <td>0</td>\n",
       "      <td>0</td>\n",
       "      <td>0</td>\n",
       "    </tr>\n",
       "    <tr>\n",
       "      <th>4</th>\n",
       "      <td>0</td>\n",
       "      <td>1</td>\n",
       "      <td>0</td>\n",
       "      <td>1</td>\n",
       "      <td>0</td>\n",
       "      <td>0</td>\n",
       "      <td>1</td>\n",
       "      <td>0</td>\n",
       "    </tr>\n",
       "    <tr>\n",
       "      <th>5</th>\n",
       "      <td>1</td>\n",
       "      <td>0</td>\n",
       "      <td>0</td>\n",
       "      <td>0</td>\n",
       "      <td>1</td>\n",
       "      <td>0</td>\n",
       "      <td>0</td>\n",
       "      <td>0</td>\n",
       "    </tr>\n",
       "  </tbody>\n",
       "</table>\n",
       "</div>"
      ],
      "text/plain": [
       "          COKE  D_COKE  D_PEPSI  D_7UP  PEPSI  SPRITE  TAB  SEVENUP\n",
       "numb.obs                                                           \n",
       "1            1       0        0      0      1       1    0        1\n",
       "2            1       0        0      0      1       0    0        0\n",
       "3            1       0        0      0      1       0    0        0\n",
       "4            0       1        0      1      0       0    1        0\n",
       "5            1       0        0      0      1       0    0        0"
      ]
     },
     "execution_count": 19,
     "metadata": {},
     "output_type": "execute_result"
    }
   ],
   "source": [
    "#  Импорт данных\n",
    "\n",
    "#  Новая опция: index_col\n",
    "#  Указывает, какую колонку в данных использовать как индекс\n",
    "\n",
    "df = pd.read_csv(\"data_lesson_4\\\\beverage.csv\", sep=\";\", index_col='numb.obs')\n",
    "\n",
    "#  Для проверки выведем первые 5 строк\n",
    "df.head()"
   ]
  },
  {
   "cell_type": "code",
   "execution_count": 7,
   "metadata": {},
   "outputs": [
    {
     "name": "stdout",
     "output_type": "stream",
     "text": [
      "          COKE  D_COKE  D_PEPSI  D_7UP  PEPSI  SPRITE  TAB  SEVENUP\n",
      "numb.obs                                                           \n",
      "1            1       0        0      0      1       1    0        1\n",
      "2            1       0        0      0      1       0    0        0\n",
      "3            1       0        0      0      1       0    0        0\n",
      "4            0       1        0      1      0       0    1        0\n",
      "5            1       0        0      0      1       0    0        0\n",
      "6            1       0        0      0      1       1    0        0\n",
      "7            0       1        1      1      0       0    1        0\n",
      "8            1       1        0      0      1       1    0        1\n",
      "9            1       1        0      0      0       1    1        1\n",
      "10           1       0        0      0      1       0    0        1\n",
      "11           1       0        0      0      1       1    0        0\n",
      "12           0       1        0      0      0       0    1        0\n",
      "13           0       0        1      1      0       1    0        1\n",
      "14           1       0        0      0      0       1    0        0\n",
      "15           0       1        1      0      0       0    1        0\n",
      "16           0       0        0      0      1       1    0        0\n",
      "17           0       1        0      0      0       1    0        0\n",
      "18           1       1        0      0      1       0    0        0\n",
      "19           1       0        0      0      0       0    0        1\n",
      "20           1       1        1      0      1       0    0        0\n",
      "21           1       0        0      0      1       0    0        0\n",
      "22           1       0        0      0      1       0    0        0\n",
      "23           0       1        0      1      0       0    1        0\n",
      "24           1       1        0      0      1       0    0        0\n",
      "25           0       1        1      1      0       0    0        0\n",
      "26           0       1        0      1      0       0    1        0\n",
      "27           0       1        0      0      0       0    1        0\n",
      "28           1       0        0      0      0       1    0        1\n",
      "29           1       0        0      0      0       1    0        0\n",
      "30           0       1        1      0      0       0    1        0\n",
      "31           1       0        0      0      1       0    0        1\n",
      "32           0       1        1      0      0       0    1        0\n",
      "33           1       0        0      0      1       0    0        1\n",
      "34           0       1        1      1      0       0    1        0\n"
     ]
    }
   ],
   "source": [
    "# Так как файлик маленький можем посмотреть на него целиком\n",
    "print(df)"
   ]
  },
  {
   "cell_type": "markdown",
   "metadata": {},
   "source": [
    "Вопрос для самопроверки.\n",
    "\n",
    "Нужно ли стандартизовать данные?"
   ]
  },
  {
   "cell_type": "code",
   "execution_count": 9,
   "metadata": {},
   "outputs": [],
   "source": [
    "#  Активируем 3 процедуры иерархического кластерного анализа\n",
    "#  Эта ячейка обычно вторая в скрипте\n",
    "\n",
    "from scipy.cluster.hierarchy import dendrogram, linkage, fcluster\n"
   ]
  },
  {
   "cell_type": "markdown",
   "metadata": {},
   "source": [
    "Для проведения иерархического кластерного анализа  <br>\n",
    "используем команду linkage из библиотеки scipy. \n",
    "\n",
    "Три аргумента этой команды: <br>\n",
    "таблица данных,  <br>\n",
    "способ вычисления расстояний между кластерами (```ward```, ```single```(default), ```complete```, ```average```, ```weighted```, ```centroid```, ```median```, ```weighted```)  <br>\n",
    "и способ вычисления расстояний между объектами (```euclidean``` (default), ```cityblock```, ```hamming```, ```cosine```).   <br>\n",
    "См. [документацию]( https://docs.scipy.org/doc/scipy/reference/cluster.hierarchy.html).\n"
   ]
  },
  {
   "cell_type": "code",
   "execution_count": 10,
   "metadata": {},
   "outputs": [],
   "source": [
    "#  Кластеризуем\n",
    "link = linkage(df, 'ward', 'euclidean')"
   ]
  },
  {
   "cell_type": "markdown",
   "metadata": {},
   "source": [
    "В объекте ```link```  хранится история объединения кластеров. Это матрица numpy ```(n-1) x 4```, где ```n``` -- число наблюдений. Каждая строка матрицы описывает слияние очередной пары кластеров с номерами ```link[i, 0]``` и ```link[i, 1]```. Новому кластеру присваивается номер ```n + i```. Столбец ```link[i, 2]``` содержит расстояние между объединяемыми кластерами, а ```link[i, 3]``` -- объем нового кластера."
   ]
  },
  {
   "cell_type": "code",
   "execution_count": 11,
   "metadata": {},
   "outputs": [
    {
     "name": "stdout",
     "output_type": "stream",
     "text": [
      "<class 'numpy.ndarray'>\n",
      "(33, 4)\n"
     ]
    }
   ],
   "source": [
    "#  link точно матрица numpy? \n",
    "\n",
    "print(type(link))\n",
    "print(link.shape)"
   ]
  },
  {
   "cell_type": "code",
   "execution_count": 11,
   "metadata": {},
   "outputs": [
    {
     "data": {
      "text/plain": [
       "array([[ 5.        , 10.        ,  0.        ,  2.        ],\n",
       "       [ 1.        ,  2.        ,  0.        ,  2.        ],\n",
       "       [ 4.        , 35.        ,  0.        ,  3.        ],\n",
       "       [ 3.        , 22.        ,  0.        ,  2.        ],\n",
       "       [20.        , 36.        ,  0.        ,  4.        ],\n",
       "       [ 6.        , 33.        ,  0.        ,  2.        ],\n",
       "       [ 9.        , 30.        ,  0.        ,  2.        ],\n",
       "       [13.        , 28.        ,  0.        ,  2.        ],\n",
       "       [32.        , 40.        ,  0.        ,  3.        ],\n",
       "       [17.        , 23.        ,  0.        ,  2.        ],\n",
       "       [11.        , 26.        ,  0.        ,  2.        ],\n",
       "       [14.        , 29.        ,  0.        ,  2.        ],\n",
       "       [25.        , 37.        ,  0.        ,  3.        ],\n",
       "       [31.        , 45.        ,  0.        ,  3.        ],\n",
       "       [21.        , 38.        ,  0.        ,  5.        ],\n",
       "       [ 0.        ,  7.        ,  1.        ,  2.        ],\n",
       "       [18.        , 27.        ,  1.        ,  2.        ],\n",
       "       [15.        , 34.        ,  1.15470054,  3.        ],\n",
       "       [24.        , 39.        ,  1.15470054,  3.        ],\n",
       "       [19.        , 43.        ,  1.15470054,  3.        ],\n",
       "       [44.        , 46.        ,  1.54919334,  5.        ],\n",
       "       [41.        , 50.        ,  1.58113883,  4.        ],\n",
       "       [ 8.        , 49.        ,  1.73205081,  3.        ],\n",
       "       [47.        , 52.        ,  1.82574186,  6.        ],\n",
       "       [16.        , 51.        ,  1.91485422,  4.        ],\n",
       "       [42.        , 48.        ,  1.93649167,  8.        ],\n",
       "       [55.        , 56.        ,  2.12132034,  7.        ],\n",
       "       [58.        , 60.        ,  2.27636073, 11.        ],\n",
       "       [53.        , 59.        ,  2.33711814, 11.        ],\n",
       "       [54.        , 57.        ,  2.37920282, 11.        ],\n",
       "       [12.        , 61.        ,  2.446395  , 12.        ],\n",
       "       [62.        , 64.        ,  3.87646865, 23.        ],\n",
       "       [63.        , 65.        ,  7.09212963, 34.        ]])"
      ]
     },
     "execution_count": 11,
     "metadata": {},
     "output_type": "execute_result"
    }
   ],
   "source": [
    "#  Посмотрим на содержимое link \n",
    "link\n",
    "\n",
    "#  Почему расстояния равны 0?\n",
    "\n",
    "#  Чтобы просмотреть только первые 15 строк матрицы link\n",
    "# link[:15]"
   ]
  },
  {
   "cell_type": "code",
   "execution_count": null,
   "metadata": {},
   "outputs": [],
   "source": []
  },
  {
   "cell_type": "code",
   "execution_count": 12,
   "metadata": {},
   "outputs": [
    {
     "data": {
      "image/png": "[encoded data removed]",
      "text/plain": [
       "<Figure size 800x600 with 1 Axes>"
      ]
     },
     "metadata": {},
     "output_type": "display_data"
    }
   ],
   "source": [
    "# Построим дендрограмму. Вариант 1\n",
    "#  Пороговое значение определяется убого, \n",
    "#  по формуле h = 0.7*max(link[:,2]).\n",
    "\n",
    "fig = plt.figure(figsize=(8,6))\n",
    "dn = dendrogram(link, labels= df.index.tolist())"
   ]
  },
  {
   "cell_type": "markdown",
   "metadata": {},
   "source": [
    "Алгоритм подкрасил два кластера в дендрограмме, но я предпочитаю ответ три кластера. "
   ]
  },
  {
   "cell_type": "code",
   "execution_count": 13,
   "metadata": {},
   "outputs": [
    {
     "data": {
      "image/png": "[encoded data removed]",
      "text/plain": [
       "<Figure size 900x700 with 1 Axes>"
      ]
     },
     "metadata": {},
     "output_type": "display_data"
    }
   ],
   "source": [
    "# Построим дендрограмму. Вариант 2\n",
    "#  Убираем автоматическое определение числа кластеров\n",
    "fig = plt.figure(figsize=(9,7))\n",
    "dn = dendrogram(link, color_threshold = -1,                 \n",
    "                # массив с названиями объектов для подписи по оси X\n",
    "                labels=df.index.tolist())\n"
   ]
  },
  {
   "cell_type": "code",
   "execution_count": null,
   "metadata": {},
   "outputs": [],
   "source": []
  },
  {
   "cell_type": "code",
   "execution_count": 19,
   "metadata": {},
   "outputs": [
    {
     "data": {
      "image/png": "[encoded data removed]",
      "text/plain": [
       "<Figure size 648x504 with 1 Axes>"
      ]
     },
     "metadata": {
      "needs_background": "light"
     },
     "output_type": "display_data"
    }
   ],
   "source": [
    "# Построим дендрограмму. Вариант 3\n",
    "#  Сами задаем порог для расстояния = 3.1, цветом выделяются 3 кластера\n",
    "\n",
    "\n",
    "fig = plt.figure(figsize=(9,7))\n",
    "\n",
    "dn = dendrogram(link, color_threshold = 3.1, labels=df.index.tolist())\n",
    "\n",
    "#  Еще варианты\n",
    "#  dn = dendrogram(link, orientation = \"right\")\n",
    "#  dn = dendrogram(link, labels= df.index.tolist())\n"
   ]
  },
  {
   "cell_type": "markdown",
   "metadata": {},
   "source": [
    "Добавим к таблице данных df столбец ```cluster```, содержащий код того кластера, в который попал объект. Это сделаем с помощью команды ```fcluster```. <br>\n",
    "Первый аргумент команды это объект ```link```, содержащий результаты кластеризации.  <br>\n",
    "Третий аргумент ```criterion``` указывает, как разбивать на кластеры (```distance```, если остановка объединений по расстоянию между кластерами или ```maxclust```, если будет заданно число кластеров).  <br>\n",
    "Вторым  аргументом является либо пороговое значение для расстояния между кластерами, либо количество кластеров, в зависимости от значения аргумента ```criterion```."
   ]
  },
  {
   "cell_type": "code",
   "execution_count": 14,
   "metadata": {},
   "outputs": [],
   "source": [
    "# Информация о кластерах добавляется в таблицу данных в виде столбца\n",
    "\n",
    "# Останавливаем объединение, когда расстояние между кластерами превысит 3.1\n",
    "df['cluster'] = fcluster(link, 3.1, criterion='distance')\n",
    "\n",
    "\n",
    "# Останавливаем объединение, когда останется 3 кластера\n",
    "#   df['cluster'] = fcluster(link, 3, criterion='maxclust')\n",
    "\n"
   ]
  },
  {
   "cell_type": "code",
   "execution_count": 15,
   "metadata": {},
   "outputs": [
    {
     "name": "stdout",
     "output_type": "stream",
     "text": [
      "          COKE  D_COKE  D_PEPSI  D_7UP  PEPSI  SPRITE  TAB  SEVENUP  cluster\n",
      "numb.obs                                                                    \n",
      "1            1       0        0      0      1       1    0        1        3\n",
      "2            1       0        0      0      1       0    0        0        2\n",
      "3            1       0        0      0      1       0    0        0        2\n",
      "4            0       1        0      1      0       0    1        0        1\n",
      "5            1       0        0      0      1       0    0        0        2\n",
      "6            1       0        0      0      1       1    0        0        3\n",
      "7            0       1        1      1      0       0    1        0        1\n",
      "8            1       1        0      0      1       1    0        1        3\n",
      "9            1       1        0      0      0       1    1        1        3\n",
      "10           1       0        0      0      1       0    0        1        2\n",
      "11           1       0        0      0      1       1    0        0        3\n",
      "12           0       1        0      0      0       0    1        0        1\n",
      "13           0       0        1      1      0       1    0        1        3\n",
      "14           1       0        0      0      0       1    0        0        3\n",
      "15           0       1        1      0      0       0    1        0        1\n",
      "16           0       0        0      0      1       1    0        0        3\n",
      "17           0       1        0      0      0       1    0        0        3\n",
      "18           1       1        0      0      1       0    0        0        2\n",
      "19           1       0        0      0      0       0    0        1        3\n",
      "20           1       1        1      0      1       0    0        0        2\n",
      "21           1       0        0      0      1       0    0        0        2\n",
      "22           1       0        0      0      1       0    0        0        2\n",
      "23           0       1        0      1      0       0    1        0        1\n",
      "24           1       1        0      0      1       0    0        0        2\n",
      "25           0       1        1      1      0       0    0        0        1\n",
      "26           0       1        0      1      0       0    1        0        1\n",
      "27           0       1        0      0      0       0    1        0        1\n",
      "28           1       0        0      0      0       1    0        1        3\n",
      "29           1       0        0      0      0       1    0        0        3\n",
      "30           0       1        1      0      0       0    1        0        1\n",
      "31           1       0        0      0      1       0    0        1        2\n",
      "32           0       1        1      0      0       0    1        0        1\n",
      "33           1       0        0      0      1       0    0        1        2\n",
      "34           0       1        1      1      0       0    1        0        1\n"
     ]
    }
   ],
   "source": [
    "#  Все хорошо?\n",
    "print(df)"
   ]
  },
  {
   "cell_type": "markdown",
   "metadata": {},
   "source": [
    "Вопрос для самопроверки.\n",
    "\n",
    "На дендрограмме видим левый, центральный и правый кластеры\n",
    "\n",
    "В таблице видим коды кластеров \"1\", \"2\" и \"3\"\n",
    "\n",
    "Как соответствуют друг другу кластеры?"
   ]
  },
  {
   "cell_type": "code",
   "execution_count": null,
   "metadata": {},
   "outputs": [],
   "source": []
  },
  {
   "cell_type": "markdown",
   "metadata": {},
   "source": [
    "Сравним типичные объекты в разных кластерах.\n",
    "Посмотрим, по каким переменным различаются кластеры.\n",
    "\n",
    "Для этого сгруппируем данные по номеру кластера, а затем в каждой группе вычислим средние значения каждой характеристики. <br>\n",
    "Используем стандартную конструкцию: вызов метода ```groupby``` с последующим применением функции к группам."
   ]
  },
  {
   "cell_type": "code",
   "execution_count": 17,
   "metadata": {},
   "outputs": [
    {
     "data": {
      "text/html": [
       "<div>\n",
       "<style scoped>\n",
       "    .dataframe tbody tr th:only-of-type {\n",
       "        vertical-align: middle;\n",
       "    }\n",
       "\n",
       "    .dataframe tbody tr th {\n",
       "        vertical-align: top;\n",
       "    }\n",
       "\n",
       "    .dataframe thead th {\n",
       "        text-align: right;\n",
       "    }\n",
       "</style>\n",
       "<table border=\"1\" class=\"dataframe\">\n",
       "  <thead>\n",
       "    <tr style=\"text-align: right;\">\n",
       "      <th></th>\n",
       "      <th>COKE</th>\n",
       "      <th>D_COKE</th>\n",
       "      <th>D_PEPSI</th>\n",
       "      <th>D_7UP</th>\n",
       "      <th>PEPSI</th>\n",
       "      <th>SPRITE</th>\n",
       "      <th>TAB</th>\n",
       "      <th>SEVENUP</th>\n",
       "    </tr>\n",
       "    <tr>\n",
       "      <th>cluster</th>\n",
       "      <th></th>\n",
       "      <th></th>\n",
       "      <th></th>\n",
       "      <th></th>\n",
       "      <th></th>\n",
       "      <th></th>\n",
       "      <th></th>\n",
       "      <th></th>\n",
       "    </tr>\n",
       "  </thead>\n",
       "  <tbody>\n",
       "    <tr>\n",
       "      <th>1</th>\n",
       "      <td>0.00</td>\n",
       "      <td>1.000000</td>\n",
       "      <td>0.545455</td>\n",
       "      <td>0.545455</td>\n",
       "      <td>0.000000</td>\n",
       "      <td>0.000000</td>\n",
       "      <td>0.909091</td>\n",
       "      <td>0.000000</td>\n",
       "    </tr>\n",
       "    <tr>\n",
       "      <th>2</th>\n",
       "      <td>1.00</td>\n",
       "      <td>0.272727</td>\n",
       "      <td>0.090909</td>\n",
       "      <td>0.000000</td>\n",
       "      <td>1.000000</td>\n",
       "      <td>0.000000</td>\n",
       "      <td>0.000000</td>\n",
       "      <td>0.272727</td>\n",
       "    </tr>\n",
       "    <tr>\n",
       "      <th>3</th>\n",
       "      <td>0.75</td>\n",
       "      <td>0.250000</td>\n",
       "      <td>0.083333</td>\n",
       "      <td>0.083333</td>\n",
       "      <td>0.416667</td>\n",
       "      <td>0.916667</td>\n",
       "      <td>0.083333</td>\n",
       "      <td>0.500000</td>\n",
       "    </tr>\n",
       "  </tbody>\n",
       "</table>\n",
       "</div>"
      ],
      "text/plain": [
       "         COKE    D_COKE   D_PEPSI     D_7UP     PEPSI    SPRITE       TAB  \\\n",
       "cluster                                                                     \n",
       "1        0.00  1.000000  0.545455  0.545455  0.000000  0.000000  0.909091   \n",
       "2        1.00  0.272727  0.090909  0.000000  1.000000  0.000000  0.000000   \n",
       "3        0.75  0.250000  0.083333  0.083333  0.416667  0.916667  0.083333   \n",
       "\n",
       "          SEVENUP  \n",
       "cluster            \n",
       "1        0.000000  \n",
       "2        0.272727  \n",
       "3        0.500000  "
      ]
     },
     "execution_count": 17,
     "metadata": {},
     "output_type": "execute_result"
    }
   ],
   "source": [
    "df.groupby('cluster').mean()"
   ]
  },
  {
   "cell_type": "markdown",
   "metadata": {},
   "source": [
    "Два способа посчитать, сколько наблюдений попало в каждый кластер. \n"
   ]
  },
  {
   "cell_type": "code",
   "execution_count": 16,
   "metadata": {
    "scrolled": true
   },
   "outputs": [
    {
     "data": {
      "text/plain": [
       "cluster\n",
       "1    11\n",
       "2    11\n",
       "3    12\n",
       "dtype: int64"
      ]
     },
     "execution_count": 16,
     "metadata": {},
     "output_type": "execute_result"
    }
   ],
   "source": [
    "#  1 вариант. Применяем вызов groupy, затем метод size.\n",
    "df.groupby('cluster').size()"
   ]
  },
  {
   "cell_type": "code",
   "execution_count": 17,
   "metadata": {},
   "outputs": [
    {
     "name": "stdout",
     "output_type": "stream",
     "text": [
      "cluster\n",
      "3    12\n",
      "2    11\n",
      "1    11\n",
      "Name: count, dtype: int64\n"
     ]
    }
   ],
   "source": [
    "#  2 вариант. Другой способ - сколько раз встретилось значение?\n",
    "print(df['cluster'].value_counts())"
   ]
  },
  {
   "cell_type": "code",
   "execution_count": 18,
   "metadata": {},
   "outputs": [
    {
     "data": {
      "text/plain": [
       "array([ 4,  7, 12, 15, 23, 25, 26, 27, 30, 32, 34], dtype=int64)"
      ]
     },
     "execution_count": 18,
     "metadata": {},
     "output_type": "execute_result"
    }
   ],
   "source": [
    "#  Какие наблюдения попали в 1-й кластер?\n",
    "df[df['cluster']==1].index.values\n"
   ]
  },
  {
   "cell_type": "markdown",
   "metadata": {},
   "source": [
    "Вопрос для самопроверки. <br>\n",
    "Что изменится, если выберем вариант решения с 2 кластерами?"
   ]
  },
  {
   "cell_type": "code",
   "execution_count": 23,
   "metadata": {},
   "outputs": [
    {
     "data": {
      "text/html": [
       "<div>\n",
       "<style scoped>\n",
       "    .dataframe tbody tr th:only-of-type {\n",
       "        vertical-align: middle;\n",
       "    }\n",
       "\n",
       "    .dataframe tbody tr th {\n",
       "        vertical-align: top;\n",
       "    }\n",
       "\n",
       "    .dataframe thead th {\n",
       "        text-align: right;\n",
       "    }\n",
       "</style>\n",
       "<table border=\"1\" class=\"dataframe\">\n",
       "  <thead>\n",
       "    <tr style=\"text-align: right;\">\n",
       "      <th></th>\n",
       "      <th>COKE</th>\n",
       "      <th>D_COKE</th>\n",
       "      <th>D_PEPSI</th>\n",
       "      <th>D_7UP</th>\n",
       "      <th>PEPSI</th>\n",
       "      <th>SPRITE</th>\n",
       "      <th>TAB</th>\n",
       "      <th>SEVENUP</th>\n",
       "      <th>cluster</th>\n",
       "    </tr>\n",
       "  </thead>\n",
       "  <tbody>\n",
       "    <tr>\n",
       "      <th>1</th>\n",
       "      <td>0.000000</td>\n",
       "      <td>1.00000</td>\n",
       "      <td>0.545455</td>\n",
       "      <td>0.545455</td>\n",
       "      <td>0.000000</td>\n",
       "      <td>0.000000</td>\n",
       "      <td>0.909091</td>\n",
       "      <td>0.000000</td>\n",
       "      <td>1.000000</td>\n",
       "    </tr>\n",
       "    <tr>\n",
       "      <th>2</th>\n",
       "      <td>0.869565</td>\n",
       "      <td>0.26087</td>\n",
       "      <td>0.086957</td>\n",
       "      <td>0.043478</td>\n",
       "      <td>0.695652</td>\n",
       "      <td>0.478261</td>\n",
       "      <td>0.043478</td>\n",
       "      <td>0.391304</td>\n",
       "      <td>2.521739</td>\n",
       "    </tr>\n",
       "  </tbody>\n",
       "</table>\n",
       "</div>"
      ],
      "text/plain": [
       "       COKE   D_COKE   D_PEPSI     D_7UP     PEPSI    SPRITE       TAB  \\\n",
       "1  0.000000  1.00000  0.545455  0.545455  0.000000  0.000000  0.909091   \n",
       "2  0.869565  0.26087  0.086957  0.043478  0.695652  0.478261  0.043478   \n",
       "\n",
       "    SEVENUP   cluster  \n",
       "1  0.000000  1.000000  \n",
       "2  0.391304  2.521739  "
      ]
     },
     "execution_count": 23,
     "metadata": {},
     "output_type": "execute_result"
    }
   ],
   "source": [
    "df.groupby(fcluster(link, 2, criterion='maxclust')).mean()"
   ]
  },
  {
   "cell_type": "code",
   "execution_count": null,
   "metadata": {},
   "outputs": [],
   "source": []
  },
  {
   "cell_type": "code",
   "execution_count": null,
   "metadata": {},
   "outputs": [],
   "source": []
  },
  {
   "cell_type": "code",
   "execution_count": null,
   "metadata": {},
   "outputs": [],
   "source": []
  },
  {
   "cell_type": "code",
   "execution_count": null,
   "metadata": {},
   "outputs": [],
   "source": []
  },
  {
   "cell_type": "code",
   "execution_count": null,
   "metadata": {},
   "outputs": [],
   "source": []
  },
  {
   "cell_type": "markdown",
   "metadata": {},
   "source": [
    "**Каменистая осыпь, она же локоть**\n",
    "\n",
    "График, помогающий определить число кластеров. Особенно полезен, если данных много. \n",
    "Будем использовать второй столбец матрицы ```link``` где  хранятся расстояния между объединяемыми кластерами. "
   ]
  },
  {
   "cell_type": "code",
   "execution_count": 21,
   "metadata": {},
   "outputs": [
    {
     "data": {
      "text/plain": [
       "array([0.        , 0.        , 0.        , 0.        , 0.        ,\n",
       "       0.        , 0.        , 0.        , 0.        , 0.        ,\n",
       "       0.        , 0.        , 0.        , 0.        , 0.        ,\n",
       "       1.        , 1.        , 1.15470054, 1.15470054, 1.15470054,\n",
       "       1.54919334, 1.58113883, 1.73205081, 1.82574186, 1.91485422,\n",
       "       1.93649167, 2.12132034, 2.27636073, 2.33711814, 2.37920282,\n",
       "       2.446395  , 3.87646865, 7.09212963])"
      ]
     },
     "execution_count": 21,
     "metadata": {},
     "output_type": "execute_result"
    }
   ],
   "source": [
    "dist = link[:, 2]\n",
    "dist"
   ]
  },
  {
   "cell_type": "markdown",
   "metadata": {},
   "source": [
    "На графике \"Каменистая осыпь\" показывается зависимость расстояний между кластерами от шага объединения (обратного). На графике находим момент, начиная с которого расстояние перестанет значительно меняться."
   ]
  },
  {
   "cell_type": "code",
   "execution_count": 22,
   "metadata": {},
   "outputs": [
    {
     "data": {
      "text/plain": [
       "Text(0, 0.5, 'Расстояние')"
      ]
     },
     "execution_count": 22,
     "metadata": {},
     "output_type": "execute_result"
    },
    {
     "data": {
      "image/png": "[encoded data removed]",
      "text/plain": [
       "<Figure size 432x288 with 1 Axes>"
      ]
     },
     "metadata": {
      "needs_background": "light"
     },
     "output_type": "display_data"
    }
   ],
   "source": [
    "dist_rev = dist[::-1]\n",
    "idxs = range(1, len(dist) + 1)\n",
    "plt.plot(idxs, dist_rev, marker='o')\n",
    "plt.title('Расстояние между объединяемыми кластерами')\n",
    "plt.xlabel('Шаг объединения')\n",
    "plt.ylabel('Расстояние')"
   ]
  },
  {
   "cell_type": "code",
   "execution_count": null,
   "metadata": {},
   "outputs": [],
   "source": []
  },
  {
   "cell_type": "markdown",
   "metadata": {},
   "source": [
    "Из картинки видно, что если мы остановим объединение кластеров при расстоянии равном примерно 2.5, мы получим 4 кластера, а при равном 3.1 -- 3 кластера.\n",
    "\n",
    "В случае больших данных график стоит модифицировать. Рекомендуется показывать на графике не все слияния, а только несколько последних. \n",
    "\n",
    "Чтобы автоматизировать процесс, факт сильного изменения расстояний между кластерами можно фиксировать с помощью \"производной\": там где график выходит на горизонталь, \"производная\" станет почти нулём."
   ]
  },
  {
   "cell_type": "markdown",
   "metadata": {},
   "source": [
    "Пример 2. Кластеризация претендентов.\n",
    "----------------------"
   ]
  },
  {
   "cell_type": "code",
   "execution_count": 24,
   "metadata": {
    "scrolled": true
   },
   "outputs": [],
   "source": [
    "os.chdir(\"C:/Users/USER/Documents/Python/_AD_Python_part_1_Lectures/AD_Python_1_02_cluster/2_pretendent\")"
   ]
  },
  {
   "cell_type": "code",
   "execution_count": 25,
   "metadata": {},
   "outputs": [
    {
     "data": {
      "text/html": [
       "<div>\n",
       "<style scoped>\n",
       "    .dataframe tbody tr th:only-of-type {\n",
       "        vertical-align: middle;\n",
       "    }\n",
       "\n",
       "    .dataframe tbody tr th {\n",
       "        vertical-align: top;\n",
       "    }\n",
       "\n",
       "    .dataframe thead th {\n",
       "        text-align: right;\n",
       "    }\n",
       "</style>\n",
       "<table border=\"1\" class=\"dataframe\">\n",
       "  <thead>\n",
       "    <tr style=\"text-align: right;\">\n",
       "      <th></th>\n",
       "      <th>NR</th>\n",
       "      <th>T1</th>\n",
       "      <th>T2</th>\n",
       "      <th>T3</th>\n",
       "      <th>T4</th>\n",
       "      <th>T5</th>\n",
       "      <th>T6</th>\n",
       "      <th>T7</th>\n",
       "      <th>T8</th>\n",
       "      <th>T9</th>\n",
       "      <th>T10</th>\n",
       "    </tr>\n",
       "    <tr>\n",
       "      <th>NAME</th>\n",
       "      <th></th>\n",
       "      <th></th>\n",
       "      <th></th>\n",
       "      <th></th>\n",
       "      <th></th>\n",
       "      <th></th>\n",
       "      <th></th>\n",
       "      <th></th>\n",
       "      <th></th>\n",
       "      <th></th>\n",
       "      <th></th>\n",
       "    </tr>\n",
       "  </thead>\n",
       "  <tbody>\n",
       "    <tr>\n",
       "      <th>Volker</th>\n",
       "      <td>1</td>\n",
       "      <td>10</td>\n",
       "      <td>10</td>\n",
       "      <td>9</td>\n",
       "      <td>10</td>\n",
       "      <td>10</td>\n",
       "      <td>10</td>\n",
       "      <td>9</td>\n",
       "      <td>10</td>\n",
       "      <td>10</td>\n",
       "      <td>9</td>\n",
       "    </tr>\n",
       "    <tr>\n",
       "      <th>Sigrid</th>\n",
       "      <td>2</td>\n",
       "      <td>10</td>\n",
       "      <td>10</td>\n",
       "      <td>4</td>\n",
       "      <td>10</td>\n",
       "      <td>5</td>\n",
       "      <td>5</td>\n",
       "      <td>4</td>\n",
       "      <td>5</td>\n",
       "      <td>4</td>\n",
       "      <td>3</td>\n",
       "    </tr>\n",
       "    <tr>\n",
       "      <th>Elmar</th>\n",
       "      <td>3</td>\n",
       "      <td>5</td>\n",
       "      <td>4</td>\n",
       "      <td>10</td>\n",
       "      <td>5</td>\n",
       "      <td>10</td>\n",
       "      <td>4</td>\n",
       "      <td>10</td>\n",
       "      <td>5</td>\n",
       "      <td>3</td>\n",
       "      <td>10</td>\n",
       "    </tr>\n",
       "    <tr>\n",
       "      <th>Peter</th>\n",
       "      <td>4</td>\n",
       "      <td>10</td>\n",
       "      <td>10</td>\n",
       "      <td>9</td>\n",
       "      <td>10</td>\n",
       "      <td>10</td>\n",
       "      <td>10</td>\n",
       "      <td>9</td>\n",
       "      <td>10</td>\n",
       "      <td>10</td>\n",
       "      <td>9</td>\n",
       "    </tr>\n",
       "    <tr>\n",
       "      <th>Otto</th>\n",
       "      <td>5</td>\n",
       "      <td>4</td>\n",
       "      <td>3</td>\n",
       "      <td>5</td>\n",
       "      <td>4</td>\n",
       "      <td>3</td>\n",
       "      <td>10</td>\n",
       "      <td>4</td>\n",
       "      <td>10</td>\n",
       "      <td>10</td>\n",
       "      <td>5</td>\n",
       "    </tr>\n",
       "  </tbody>\n",
       "</table>\n",
       "</div>"
      ],
      "text/plain": [
       "        NR  T1  T2  T3  T4  T5  T6  T7  T8  T9  T10\n",
       "NAME                                               \n",
       "Volker   1  10  10   9  10  10  10   9  10  10    9\n",
       "Sigrid   2  10  10   4  10   5   5   4   5   4    3\n",
       "Elmar    3   5   4  10   5  10   4  10   5   3   10\n",
       "Peter    4  10  10   9  10  10  10   9  10  10    9\n",
       "Otto     5   4   3   5   4   3  10   4  10  10    5"
      ]
     },
     "execution_count": 25,
     "metadata": {},
     "output_type": "execute_result"
    }
   ],
   "source": [
    "df = pd.read_csv('assess.dat', sep='\\t', index_col='NAME')\n",
    "df.head()"
   ]
  },
  {
   "cell_type": "code",
   "execution_count": 26,
   "metadata": {},
   "outputs": [],
   "source": [
    "# удаляю столбцы, которые не нужны для кластеризации\n",
    "\n",
    "# В столбце NR находится номер объекта, \n",
    "# столбец неинформативен, удаляем \n",
    "del df['NR']"
   ]
  },
  {
   "cell_type": "markdown",
   "metadata": {},
   "source": [
    "Вопрос для самопроверки.\n",
    "\n",
    "Нужно ли стандартизовать данные?"
   ]
  },
  {
   "cell_type": "code",
   "execution_count": 28,
   "metadata": {},
   "outputs": [
    {
     "data": {
      "image/png": "[encoded data removed]",
      "text/plain": [
       "<Figure size 432x288 with 1 Axes>"
      ]
     },
     "metadata": {
      "needs_background": "light"
     },
     "output_type": "display_data"
    }
   ],
   "source": [
    "# строю дендрограмму\n",
    "\n",
    "link = linkage(df, 'ward', 'euclidean')\n",
    "dn = dendrogram(link, color_threshold = -1)"
   ]
  },
  {
   "cell_type": "markdown",
   "metadata": {},
   "source": [
    "Вывод: число кластеров равно 4.  <br>\n",
    "Переходим к интерпретации кластеров"
   ]
  },
  {
   "cell_type": "code",
   "execution_count": 30,
   "metadata": {},
   "outputs": [],
   "source": [
    "#  Добавляем столбец cluster к таблице данных\n",
    "df['cluster'] = fcluster(link, 4, criterion='maxclust')"
   ]
  },
  {
   "cell_type": "code",
   "execution_count": 31,
   "metadata": {},
   "outputs": [
    {
     "data": {
      "text/html": [
       "<div>\n",
       "<style scoped>\n",
       "    .dataframe tbody tr th:only-of-type {\n",
       "        vertical-align: middle;\n",
       "    }\n",
       "\n",
       "    .dataframe tbody tr th {\n",
       "        vertical-align: top;\n",
       "    }\n",
       "\n",
       "    .dataframe thead th {\n",
       "        text-align: right;\n",
       "    }\n",
       "</style>\n",
       "<table border=\"1\" class=\"dataframe\">\n",
       "  <thead>\n",
       "    <tr style=\"text-align: right;\">\n",
       "      <th></th>\n",
       "      <th>T1</th>\n",
       "      <th>T2</th>\n",
       "      <th>T3</th>\n",
       "      <th>T4</th>\n",
       "      <th>T5</th>\n",
       "      <th>T6</th>\n",
       "      <th>T7</th>\n",
       "      <th>T8</th>\n",
       "      <th>T9</th>\n",
       "      <th>T10</th>\n",
       "    </tr>\n",
       "    <tr>\n",
       "      <th>cluster</th>\n",
       "      <th></th>\n",
       "      <th></th>\n",
       "      <th></th>\n",
       "      <th></th>\n",
       "      <th></th>\n",
       "      <th></th>\n",
       "      <th></th>\n",
       "      <th></th>\n",
       "      <th></th>\n",
       "      <th></th>\n",
       "    </tr>\n",
       "  </thead>\n",
       "  <tbody>\n",
       "    <tr>\n",
       "      <th>1</th>\n",
       "      <td>4.2</td>\n",
       "      <td>4.8</td>\n",
       "      <td>10.00</td>\n",
       "      <td>4.4</td>\n",
       "      <td>10.00</td>\n",
       "      <td>4.4</td>\n",
       "      <td>10.00</td>\n",
       "      <td>4.00</td>\n",
       "      <td>3.80</td>\n",
       "      <td>10.00</td>\n",
       "    </tr>\n",
       "    <tr>\n",
       "      <th>2</th>\n",
       "      <td>4.8</td>\n",
       "      <td>4.4</td>\n",
       "      <td>4.00</td>\n",
       "      <td>4.0</td>\n",
       "      <td>4.20</td>\n",
       "      <td>10.0</td>\n",
       "      <td>4.40</td>\n",
       "      <td>10.00</td>\n",
       "      <td>10.00</td>\n",
       "      <td>5.00</td>\n",
       "    </tr>\n",
       "    <tr>\n",
       "      <th>3</th>\n",
       "      <td>10.0</td>\n",
       "      <td>10.0</td>\n",
       "      <td>9.00</td>\n",
       "      <td>10.0</td>\n",
       "      <td>10.00</td>\n",
       "      <td>9.5</td>\n",
       "      <td>9.25</td>\n",
       "      <td>9.75</td>\n",
       "      <td>10.00</td>\n",
       "      <td>9.50</td>\n",
       "    </tr>\n",
       "    <tr>\n",
       "      <th>4</th>\n",
       "      <td>10.0</td>\n",
       "      <td>10.0</td>\n",
       "      <td>4.25</td>\n",
       "      <td>10.0</td>\n",
       "      <td>4.75</td>\n",
       "      <td>4.5</td>\n",
       "      <td>3.75</td>\n",
       "      <td>4.25</td>\n",
       "      <td>4.25</td>\n",
       "      <td>4.25</td>\n",
       "    </tr>\n",
       "  </tbody>\n",
       "</table>\n",
       "</div>"
      ],
      "text/plain": [
       "           T1    T2     T3    T4     T5    T6     T7     T8     T9    T10\n",
       "cluster                                                                  \n",
       "1         4.2   4.8  10.00   4.4  10.00   4.4  10.00   4.00   3.80  10.00\n",
       "2         4.8   4.4   4.00   4.0   4.20  10.0   4.40  10.00  10.00   5.00\n",
       "3        10.0  10.0   9.00  10.0  10.00   9.5   9.25   9.75  10.00   9.50\n",
       "4        10.0  10.0   4.25  10.0   4.75   4.5   3.75   4.25   4.25   4.25"
      ]
     },
     "execution_count": 31,
     "metadata": {},
     "output_type": "execute_result"
    }
   ],
   "source": [
    "#  Средние значения баллов в каждом кластере\n",
    "df.groupby('cluster').mean()"
   ]
  },
  {
   "cell_type": "markdown",
   "metadata": {},
   "source": [
    "Пример 3. Потребление протеинов в Европе.\n",
    "------------------"
   ]
  },
  {
   "cell_type": "code",
   "execution_count": 17,
   "metadata": {},
   "outputs": [],
   "source": [
    "os.chdir(\"C:/Users/USER/Documents/Python/_AD_Python_part_1_Lectures/AD_Python_1_02_cluster/3_Protein Consumption in Europe\")\n"
   ]
  },
  {
   "cell_type": "code",
   "execution_count": 18,
   "metadata": {},
   "outputs": [
    {
     "data": {
      "text/html": [
       "<div>\n",
       "<style scoped>\n",
       "    .dataframe tbody tr th:only-of-type {\n",
       "        vertical-align: middle;\n",
       "    }\n",
       "\n",
       "    .dataframe tbody tr th {\n",
       "        vertical-align: top;\n",
       "    }\n",
       "\n",
       "    .dataframe thead th {\n",
       "        text-align: right;\n",
       "    }\n",
       "</style>\n",
       "<table border=\"1\" class=\"dataframe\">\n",
       "  <thead>\n",
       "    <tr style=\"text-align: right;\">\n",
       "      <th></th>\n",
       "      <th>RedMeat</th>\n",
       "      <th>WhiteMeat</th>\n",
       "      <th>Eggs</th>\n",
       "      <th>Milk</th>\n",
       "      <th>Fish</th>\n",
       "      <th>Cereals</th>\n",
       "      <th>Starch</th>\n",
       "      <th>Nuts</th>\n",
       "      <th>Fr&amp;Veg</th>\n",
       "    </tr>\n",
       "    <tr>\n",
       "      <th>Country</th>\n",
       "      <th></th>\n",
       "      <th></th>\n",
       "      <th></th>\n",
       "      <th></th>\n",
       "      <th></th>\n",
       "      <th></th>\n",
       "      <th></th>\n",
       "      <th></th>\n",
       "      <th></th>\n",
       "    </tr>\n",
       "  </thead>\n",
       "  <tbody>\n",
       "    <tr>\n",
       "      <th>Albania</th>\n",
       "      <td>10.1</td>\n",
       "      <td>1.4</td>\n",
       "      <td>0.5</td>\n",
       "      <td>8.9</td>\n",
       "      <td>0.2</td>\n",
       "      <td>42.3</td>\n",
       "      <td>0.6</td>\n",
       "      <td>5.5</td>\n",
       "      <td>1.7</td>\n",
       "    </tr>\n",
       "    <tr>\n",
       "      <th>Austria</th>\n",
       "      <td>8.9</td>\n",
       "      <td>14.0</td>\n",
       "      <td>4.3</td>\n",
       "      <td>19.9</td>\n",
       "      <td>2.1</td>\n",
       "      <td>28.0</td>\n",
       "      <td>3.6</td>\n",
       "      <td>1.3</td>\n",
       "      <td>4.3</td>\n",
       "    </tr>\n",
       "    <tr>\n",
       "      <th>Belgium</th>\n",
       "      <td>13.5</td>\n",
       "      <td>9.3</td>\n",
       "      <td>4.1</td>\n",
       "      <td>17.5</td>\n",
       "      <td>4.5</td>\n",
       "      <td>26.6</td>\n",
       "      <td>5.7</td>\n",
       "      <td>2.1</td>\n",
       "      <td>4.0</td>\n",
       "    </tr>\n",
       "    <tr>\n",
       "      <th>Bulgaria</th>\n",
       "      <td>7.8</td>\n",
       "      <td>6.0</td>\n",
       "      <td>1.6</td>\n",
       "      <td>8.3</td>\n",
       "      <td>1.2</td>\n",
       "      <td>56.7</td>\n",
       "      <td>1.1</td>\n",
       "      <td>3.7</td>\n",
       "      <td>4.2</td>\n",
       "    </tr>\n",
       "    <tr>\n",
       "      <th>Czechoslovakia</th>\n",
       "      <td>9.7</td>\n",
       "      <td>11.4</td>\n",
       "      <td>2.8</td>\n",
       "      <td>12.5</td>\n",
       "      <td>2.0</td>\n",
       "      <td>34.3</td>\n",
       "      <td>5.0</td>\n",
       "      <td>1.1</td>\n",
       "      <td>4.0</td>\n",
       "    </tr>\n",
       "  </tbody>\n",
       "</table>\n",
       "</div>"
      ],
      "text/plain": [
       "                RedMeat  WhiteMeat  Eggs  Milk  Fish  Cereals  Starch  Nuts  \\\n",
       "Country                                                                       \n",
       "Albania            10.1        1.4   0.5   8.9   0.2     42.3     0.6   5.5   \n",
       "Austria             8.9       14.0   4.3  19.9   2.1     28.0     3.6   1.3   \n",
       "Belgium            13.5        9.3   4.1  17.5   4.5     26.6     5.7   2.1   \n",
       "Bulgaria            7.8        6.0   1.6   8.3   1.2     56.7     1.1   3.7   \n",
       "Czechoslovakia      9.7       11.4   2.8  12.5   2.0     34.3     5.0   1.1   \n",
       "\n",
       "                Fr&Veg  \n",
       "Country                 \n",
       "Albania            1.7  \n",
       "Austria            4.3  \n",
       "Belgium            4.0  \n",
       "Bulgaria           4.2  \n",
       "Czechoslovakia     4.0  "
      ]
     },
     "execution_count": 18,
     "metadata": {},
     "output_type": "execute_result"
    }
   ],
   "source": [
    "df = pd.read_csv('Protein Consumption in Europe.csv', sep=';', decimal=',', index_col='Country')\n",
    "df.head()"
   ]
  },
  {
   "cell_type": "markdown",
   "metadata": {},
   "source": [
    "Вопрос для самопроверки.\n",
    "\n",
    "Нужно ли стандартизовать данные?"
   ]
  },
  {
   "cell_type": "markdown",
   "metadata": {},
   "source": [
    "Стандартизация данных\n",
    "--------------------\n",
    "В этом примере данные измерены в одной шкале, в одних и тех же единицах, но значения в разных столбцах различаются почти на два порядка.\n",
    "\n",
    "Вывод: данные надо стандартизировать. \n",
    "\n",
    "В модуле preprocessing библиотеки sklearn реализованы несколько классов стандартизации данных:\n",
    "* StandardScaler -- приведение к нулевому среднему и единичной дисперсии.\n",
    "* MinMaxScaler -- приведение данных к отрезку [0, 1].\n",
    "* MaxAbsScaler -- приведение к [-1, 1] (рекомендуется для разреженных данных).\n",
    "\n",
    "Замечание. У этих методов есть методы-аналоги ```scale```, ```minmax_scale``` и ```maxabs_scale```, которые делают практически то же самое, но в задачах распознавания, которые встретяся позже, удобнее использовать именно рассматриваемый вариант.\n",
    "\n",
    "Процесс стандартизации выглядит так:"
   ]
  },
  {
   "cell_type": "code",
   "execution_count": 19,
   "metadata": {},
   "outputs": [],
   "source": [
    "from sklearn import preprocessing\n",
    "\n",
    "# Выбираем один из вариантов стандартизации\n",
    "\n",
    "stand_1 = preprocessing.StandardScaler()\n",
    "# stand_1 = preprocessing.MaxAbsScaler()\n",
    "# stand_1 = preprocessing.MinMaxScaler()\n",
    "\n",
    "# вычисляем параметры стандартизации (они сохраняются внутри объекта norm)\n",
    "stand_1.fit(df)\n",
    "# преобразуем данные\n",
    "X = stand_1.transform(df)\n",
    "# Получаем объект X -- матрицу класса numpy.ndarray.\n",
    "# Преобразуем её в объект класса pandas.DataFrame.\n",
    "X = pd.DataFrame(X, index=df.index, columns=df.columns)"
   ]
  },
  {
   "cell_type": "code",
   "execution_count": 20,
   "metadata": {},
   "outputs": [
    {
     "data": {
      "text/html": [
       "<div>\n",
       "<style scoped>\n",
       "    .dataframe tbody tr th:only-of-type {\n",
       "        vertical-align: middle;\n",
       "    }\n",
       "\n",
       "    .dataframe tbody tr th {\n",
       "        vertical-align: top;\n",
       "    }\n",
       "\n",
       "    .dataframe thead th {\n",
       "        text-align: right;\n",
       "    }\n",
       "</style>\n",
       "<table border=\"1\" class=\"dataframe\">\n",
       "  <thead>\n",
       "    <tr style=\"text-align: right;\">\n",
       "      <th></th>\n",
       "      <th>RedMeat</th>\n",
       "      <th>WhiteMeat</th>\n",
       "      <th>Eggs</th>\n",
       "      <th>Milk</th>\n",
       "      <th>Fish</th>\n",
       "      <th>Cereals</th>\n",
       "      <th>Starch</th>\n",
       "      <th>Nuts</th>\n",
       "      <th>Fr&amp;Veg</th>\n",
       "    </tr>\n",
       "    <tr>\n",
       "      <th>Country</th>\n",
       "      <th></th>\n",
       "      <th></th>\n",
       "      <th></th>\n",
       "      <th></th>\n",
       "      <th></th>\n",
       "      <th></th>\n",
       "      <th></th>\n",
       "      <th></th>\n",
       "      <th></th>\n",
       "    </tr>\n",
       "  </thead>\n",
       "  <tbody>\n",
       "    <tr>\n",
       "      <th>Albania</th>\n",
       "      <td>0.082941</td>\n",
       "      <td>-1.794750</td>\n",
       "      <td>-2.224584</td>\n",
       "      <td>-1.179570</td>\n",
       "      <td>-1.225033</td>\n",
       "      <td>0.934804</td>\n",
       "      <td>-2.295965</td>\n",
       "      <td>1.247968</td>\n",
       "      <td>-1.378251</td>\n",
       "    </tr>\n",
       "    <tr>\n",
       "      <th>Austria</th>\n",
       "      <td>-0.282974</td>\n",
       "      <td>1.686446</td>\n",
       "      <td>1.245621</td>\n",
       "      <td>0.400468</td>\n",
       "      <td>-0.655111</td>\n",
       "      <td>-0.395051</td>\n",
       "      <td>-0.422218</td>\n",
       "      <td>-0.910790</td>\n",
       "      <td>0.092789</td>\n",
       "    </tr>\n",
       "    <tr>\n",
       "      <th>Belgium</th>\n",
       "      <td>1.119699</td>\n",
       "      <td>0.387905</td>\n",
       "      <td>1.062979</td>\n",
       "      <td>0.055732</td>\n",
       "      <td>0.064791</td>\n",
       "      <td>-0.525246</td>\n",
       "      <td>0.889405</td>\n",
       "      <td>-0.499598</td>\n",
       "      <td>-0.076947</td>\n",
       "    </tr>\n",
       "    <tr>\n",
       "      <th>Bulgaria</th>\n",
       "      <td>-0.618396</td>\n",
       "      <td>-0.523837</td>\n",
       "      <td>-1.220051</td>\n",
       "      <td>-1.265754</td>\n",
       "      <td>-0.925074</td>\n",
       "      <td>2.273959</td>\n",
       "      <td>-1.983674</td>\n",
       "      <td>0.322786</td>\n",
       "      <td>0.036210</td>\n",
       "    </tr>\n",
       "    <tr>\n",
       "      <th>Czechoslovakia</th>\n",
       "      <td>-0.039031</td>\n",
       "      <td>0.968104</td>\n",
       "      <td>-0.124197</td>\n",
       "      <td>-0.662467</td>\n",
       "      <td>-0.685107</td>\n",
       "      <td>0.190830</td>\n",
       "      <td>0.452198</td>\n",
       "      <td>-1.013588</td>\n",
       "      <td>-0.076947</td>\n",
       "    </tr>\n",
       "  </tbody>\n",
       "</table>\n",
       "</div>"
      ],
      "text/plain": [
       "                 RedMeat  WhiteMeat      Eggs      Milk      Fish   Cereals  \\\n",
       "Country                                                                       \n",
       "Albania         0.082941  -1.794750 -2.224584 -1.179570 -1.225033  0.934804   \n",
       "Austria        -0.282974   1.686446  1.245621  0.400468 -0.655111 -0.395051   \n",
       "Belgium         1.119699   0.387905  1.062979  0.055732  0.064791 -0.525246   \n",
       "Bulgaria       -0.618396  -0.523837 -1.220051 -1.265754 -0.925074  2.273959   \n",
       "Czechoslovakia -0.039031   0.968104 -0.124197 -0.662467 -0.685107  0.190830   \n",
       "\n",
       "                  Starch      Nuts    Fr&Veg  \n",
       "Country                                       \n",
       "Albania        -2.295965  1.247968 -1.378251  \n",
       "Austria        -0.422218 -0.910790  0.092789  \n",
       "Belgium         0.889405 -0.499598 -0.076947  \n",
       "Bulgaria       -1.983674  0.322786  0.036210  \n",
       "Czechoslovakia  0.452198 -1.013588 -0.076947  "
      ]
     },
     "execution_count": 20,
     "metadata": {},
     "output_type": "execute_result"
    }
   ],
   "source": [
    "#  Все хорошо?\n",
    "X.head()"
   ]
  },
  {
   "cell_type": "code",
   "execution_count": 21,
   "metadata": {},
   "outputs": [
    {
     "data": {
      "image/png": "[encoded data removed]",
      "text/plain": [
       "<Figure size 864x864 with 1 Axes>"
      ]
     },
     "metadata": {
      "needs_background": "light"
     },
     "output_type": "display_data"
    }
   ],
   "source": [
    "#  кластерный анализ\n",
    "\n",
    "link = linkage(X, 'ward', 'euclidean')\n",
    "fig = plt.figure(figsize=(12,12))\n",
    "\n",
    "ax1 = fig.add_subplot(111)\n",
    "ax1.set_xlabel('Схожесть стран')\n",
    "\n",
    "ax1.set_title('Дендрограмма')\n",
    "\n",
    "dn = dendrogram(link,\n",
    "                # массив с названиями объектов для подписи по оси X\n",
    "                labels=X.index.tolist(),\n",
    "                leaf_font_size = 14, \n",
    "                # опция для красивого отображения слишком ветвистой дендрограммы\n",
    "                truncate_mode='lastp',\n",
    "                color_threshold=-1,\n",
    "                # повернуть подписи вертикально\n",
    "                orientation = \"right\",\n",
    "                leaf_rotation=0.)\n",
    "\n",
    "#   plt.savefig('dendro_3ex.png', dpi=300, facecolor = 'white')"
   ]
  },
  {
   "cell_type": "code",
   "execution_count": null,
   "metadata": {},
   "outputs": [],
   "source": []
  },
  {
   "cell_type": "code",
   "execution_count": 36,
   "metadata": {},
   "outputs": [
    {
     "data": {
      "image/png": "[encoded data removed]",
      "text/plain": [
       "<Figure size 864x864 with 1 Axes>"
      ]
     },
     "metadata": {
      "needs_background": "light"
     },
     "output_type": "display_data"
    }
   ],
   "source": [
    "#  Кластеризуем и строим дендрограмму\n",
    "\n",
    "link = linkage(X, 'ward', 'euclidean')\n",
    "\n",
    "fig = plt.figure(figsize=(12,12))\n",
    "dn = dendrogram(link,\n",
    "                # массив с названиями объектов для подписи по оси X\n",
    "                labels=X.index.tolist(),\n",
    "                # опция для более красивого отображения слишком ветвистой дендрограммы\n",
    "                truncate_mode='lastp',\n",
    "                # повернуть подписи вертикально\n",
    "                color_threshold=5.5,\n",
    "                orientation = \"right\",\n",
    "                leaf_rotation=0.)"
   ]
  },
  {
   "cell_type": "markdown",
   "metadata": {},
   "source": [
    "Обратите внимание, как подписывать имена объектов"
   ]
  },
  {
   "cell_type": "code",
   "execution_count": null,
   "metadata": {},
   "outputs": [],
   "source": []
  },
  {
   "cell_type": "code",
   "execution_count": 37,
   "metadata": {},
   "outputs": [
    {
     "data": {
      "image/png": "[encoded data removed]",
      "text/plain": [
       "<Figure size 864x864 with 1 Axes>"
      ]
     },
     "metadata": {
      "needs_background": "light"
     },
     "output_type": "display_data"
    }
   ],
   "source": [
    "#  Изменим размер подписей объектов\n",
    "\n",
    "link = linkage(X, 'ward', 'euclidean')\n",
    "fig = plt.figure(figsize=(12,12))\n",
    "\n",
    "ax1 = fig.add_subplot(111)\n",
    "ax1.set_xlabel('Схожесть стран')\n",
    "\n",
    "ax1.set_title('Дендрограмма')\n",
    "\n",
    "dn = dendrogram(link,\n",
    "                # массив с названиями объектов для подписи по оси X\n",
    "                labels=X.index.tolist(),\n",
    "                leaf_font_size = 14, \n",
    "                # опция для красивого отображения слишком ветвистой дендрограммы\n",
    "                truncate_mode='lastp',\n",
    "                # повернуть подписи вертикально\n",
    "                color_threshold=5.5,\n",
    "                orientation = \"right\",\n",
    "                leaf_rotation=0.)"
   ]
  },
  {
   "cell_type": "code",
   "execution_count": null,
   "metadata": {},
   "outputs": [],
   "source": []
  },
  {
   "cell_type": "code",
   "execution_count": 38,
   "metadata": {},
   "outputs": [],
   "source": [
    "df['cluster'] = fcluster(link, 5.5, criterion='distance')"
   ]
  },
  {
   "cell_type": "code",
   "execution_count": 39,
   "metadata": {},
   "outputs": [
    {
     "data": {
      "text/html": [
       "<div>\n",
       "<style scoped>\n",
       "    .dataframe tbody tr th:only-of-type {\n",
       "        vertical-align: middle;\n",
       "    }\n",
       "\n",
       "    .dataframe tbody tr th {\n",
       "        vertical-align: top;\n",
       "    }\n",
       "\n",
       "    .dataframe thead th {\n",
       "        text-align: right;\n",
       "    }\n",
       "</style>\n",
       "<table border=\"1\" class=\"dataframe\">\n",
       "  <thead>\n",
       "    <tr style=\"text-align: right;\">\n",
       "      <th></th>\n",
       "      <th>RedMeat</th>\n",
       "      <th>WhiteMeat</th>\n",
       "      <th>Eggs</th>\n",
       "      <th>Milk</th>\n",
       "      <th>Fish</th>\n",
       "      <th>Cereals</th>\n",
       "      <th>Starch</th>\n",
       "      <th>Nuts</th>\n",
       "      <th>Fr&amp;Veg</th>\n",
       "    </tr>\n",
       "    <tr>\n",
       "      <th>cluster</th>\n",
       "      <th></th>\n",
       "      <th></th>\n",
       "      <th></th>\n",
       "      <th></th>\n",
       "      <th></th>\n",
       "      <th></th>\n",
       "      <th></th>\n",
       "      <th></th>\n",
       "      <th></th>\n",
       "    </tr>\n",
       "  </thead>\n",
       "  <tbody>\n",
       "    <tr>\n",
       "      <th>1</th>\n",
       "      <td>7.9200</td>\n",
       "      <td>10.0400</td>\n",
       "      <td>2.8400</td>\n",
       "      <td>13.8400</td>\n",
       "      <td>2.740</td>\n",
       "      <td>35.740</td>\n",
       "      <td>5.560</td>\n",
       "      <td>2.5400</td>\n",
       "      <td>4.260</td>\n",
       "    </tr>\n",
       "    <tr>\n",
       "      <th>2</th>\n",
       "      <td>9.8500</td>\n",
       "      <td>7.0500</td>\n",
       "      <td>3.1500</td>\n",
       "      <td>26.6750</td>\n",
       "      <td>8.225</td>\n",
       "      <td>22.675</td>\n",
       "      <td>4.550</td>\n",
       "      <td>1.1750</td>\n",
       "      <td>2.125</td>\n",
       "    </tr>\n",
       "    <tr>\n",
       "      <th>3</th>\n",
       "      <td>13.2125</td>\n",
       "      <td>10.6375</td>\n",
       "      <td>3.9875</td>\n",
       "      <td>21.1625</td>\n",
       "      <td>3.375</td>\n",
       "      <td>24.700</td>\n",
       "      <td>4.650</td>\n",
       "      <td>2.0625</td>\n",
       "      <td>4.175</td>\n",
       "    </tr>\n",
       "    <tr>\n",
       "      <th>4</th>\n",
       "      <td>7.1250</td>\n",
       "      <td>4.6750</td>\n",
       "      <td>1.2000</td>\n",
       "      <td>9.4500</td>\n",
       "      <td>0.750</td>\n",
       "      <td>51.125</td>\n",
       "      <td>1.950</td>\n",
       "      <td>5.0500</td>\n",
       "      <td>2.975</td>\n",
       "    </tr>\n",
       "    <tr>\n",
       "      <th>5</th>\n",
       "      <td>8.1250</td>\n",
       "      <td>3.8000</td>\n",
       "      <td>2.4750</td>\n",
       "      <td>11.2000</td>\n",
       "      <td>7.625</td>\n",
       "      <td>33.675</td>\n",
       "      <td>3.975</td>\n",
       "      <td>5.6750</td>\n",
       "      <td>7.075</td>\n",
       "    </tr>\n",
       "  </tbody>\n",
       "</table>\n",
       "</div>"
      ],
      "text/plain": [
       "         RedMeat  WhiteMeat    Eggs     Milk   Fish  Cereals  Starch    Nuts  \\\n",
       "cluster                                                                        \n",
       "1         7.9200    10.0400  2.8400  13.8400  2.740   35.740   5.560  2.5400   \n",
       "2         9.8500     7.0500  3.1500  26.6750  8.225   22.675   4.550  1.1750   \n",
       "3        13.2125    10.6375  3.9875  21.1625  3.375   24.700   4.650  2.0625   \n",
       "4         7.1250     4.6750  1.2000   9.4500  0.750   51.125   1.950  5.0500   \n",
       "5         8.1250     3.8000  2.4750  11.2000  7.625   33.675   3.975  5.6750   \n",
       "\n",
       "         Fr&Veg  \n",
       "cluster          \n",
       "1         4.260  \n",
       "2         2.125  \n",
       "3         4.175  \n",
       "4         2.975  \n",
       "5         7.075  "
      ]
     },
     "execution_count": 39,
     "metadata": {},
     "output_type": "execute_result"
    }
   ],
   "source": [
    "df.groupby('cluster').mean()"
   ]
  },
  {
   "cell_type": "code",
   "execution_count": null,
   "metadata": {},
   "outputs": [],
   "source": []
  },
  {
   "cell_type": "code",
   "execution_count": 40,
   "metadata": {},
   "outputs": [
    {
     "data": {
      "text/plain": [
       "array(['Greece', 'Italy', 'Portugal', 'Spain'], dtype=object)"
      ]
     },
     "execution_count": 40,
     "metadata": {},
     "output_type": "execute_result"
    }
   ],
   "source": [
    "#  Какие страны попали в 5-й кластер?\n",
    "df[df['cluster']==5].index.values"
   ]
  },
  {
   "cell_type": "code",
   "execution_count": 41,
   "metadata": {},
   "outputs": [
    {
     "data": {
      "text/plain": [
       "array(['Albania', 'Bulgaria', 'Romania', 'Yugoslavia'], dtype=object)"
      ]
     },
     "execution_count": 41,
     "metadata": {},
     "output_type": "execute_result"
    }
   ],
   "source": [
    "#  Какие страны попали в 4-й кластер?\n",
    "df[df['cluster']==4].index.values"
   ]
  },
  {
   "cell_type": "code",
   "execution_count": 42,
   "metadata": {},
   "outputs": [
    {
     "data": {
      "text/plain": [
       "Country\n",
       "Poland            1\n",
       "USSR              1\n",
       "Czechoslovakia    1\n",
       "E_Germany         1\n",
       "Hungary           1\n",
       "Sweden            2\n",
       "Norway            2\n",
       "Denmark           2\n",
       "Finland           2\n",
       "Netherlands       3\n",
       "W_Germany         3\n",
       "France            3\n",
       "UK                3\n",
       "Switzerland       3\n",
       "Belgium           3\n",
       "Austria           3\n",
       "Ireland           3\n",
       "Albania           4\n",
       "Yugoslavia        4\n",
       "Romania           4\n",
       "Bulgaria          4\n",
       "Portugal          5\n",
       "Greece            5\n",
       "Spain             5\n",
       "Italy             5\n",
       "Name: cluster, dtype: int32"
      ]
     },
     "execution_count": 42,
     "metadata": {},
     "output_type": "execute_result"
    }
   ],
   "source": [
    "#  Надоело, выводим состав кластеров сразу для всей выборки\n",
    "df['cluster'].sort_values()"
   ]
  },
  {
   "cell_type": "code",
   "execution_count": null,
   "metadata": {},
   "outputs": [],
   "source": []
  },
  {
   "cell_type": "code",
   "execution_count": null,
   "metadata": {},
   "outputs": [],
   "source": [
    "\n"
   ]
  },
  {
   "cell_type": "code",
   "execution_count": null,
   "metadata": {},
   "outputs": [],
   "source": []
  },
  {
   "cell_type": "code",
   "execution_count": null,
   "metadata": {},
   "outputs": [],
   "source": []
  },
  {
   "cell_type": "code",
   "execution_count": null,
   "metadata": {},
   "outputs": [],
   "source": []
  },
  {
   "cell_type": "code",
   "execution_count": 43,
   "metadata": {},
   "outputs": [
    {
     "data": {
      "image/png": "[encoded data removed]",
      "text/plain": [
       "<Figure size 864x864 with 1 Axes>"
      ]
     },
     "metadata": {
      "needs_background": "light"
     },
     "output_type": "display_data"
    }
   ],
   "source": [
    "#   Можно, конечно строить дендрограмму и так...\n",
    "\n",
    "fig = plt.figure(figsize=(12,12))\n",
    "dn = dendrogram(link,\n",
    "                # массив с названиями объектов для подписи по оси X\n",
    "                labels=X.index.tolist(),\n",
    "                # опция для сокращения слишком ветввистой дендрограммы\n",
    "                # сейчас не работает, так как по умолчанию  p=30\n",
    "                truncate_mode='lastp',\n",
    "                # повернуть подписи вертикально\n",
    "                color_threshold=5.5,\n",
    "                leaf_rotation=90.)"
   ]
  },
  {
   "cell_type": "code",
   "execution_count": null,
   "metadata": {},
   "outputs": [],
   "source": []
  },
  {
   "cell_type": "code",
   "execution_count": null,
   "metadata": {},
   "outputs": [],
   "source": []
  },
  {
   "cell_type": "code",
   "execution_count": 22,
   "metadata": {},
   "outputs": [],
   "source": [
    "# from sklearn import preprocessing\n",
    "\n",
    "# Выбираем один из вариантов стандартизации\n",
    "\n",
    "# stand_1 = preprocessing.StandardScaler()\n",
    "stand_2 = preprocessing.MaxAbsScaler()\n",
    "# stand_1 = preprocessing.MinMaxScaler()\n",
    "\n",
    "# вычисляем параметры стандартизации (они сохраняются внутри объекта norm)\n",
    "stand_2.fit(df)\n",
    "# преобразуем данные\n",
    "X_2 = stand_2.transform(df)\n",
    "# Получаем объект X_2 -- матрицу класса numpy.ndarray.\n",
    "# Преобразуем её в объект класса pandas.DataFrame.\n",
    "X_2 = pd.DataFrame(X_2, index=df.index, columns=df.columns)\n"
   ]
  },
  {
   "cell_type": "code",
   "execution_count": 23,
   "metadata": {},
   "outputs": [
    {
     "data": {
      "image/png": "[encoded data removed]",
      "text/plain": [
       "<Figure size 864x864 with 1 Axes>"
      ]
     },
     "metadata": {
      "needs_background": "light"
     },
     "output_type": "display_data"
    }
   ],
   "source": [
    "#  кластерный анализ\n",
    "\n",
    "link_2 = linkage(X_2, 'ward', 'euclidean')\n",
    "fig = plt.figure(figsize=(12,12))\n",
    "\n",
    "ax1 = fig.add_subplot(111)\n",
    "ax1.set_xlabel('Схожесть стран')\n",
    "\n",
    "ax1.set_title('Дендрограмма')\n",
    "\n",
    "dn = dendrogram(link_2,\n",
    "                # массив с названиями объектов для подписи по оси X\n",
    "                labels=X_2.index.tolist(),\n",
    "                leaf_font_size = 14, \n",
    "                # опция для красивого отображения слишком ветвистой дендрограммы\n",
    "                truncate_mode='lastp',\n",
    "                color_threshold=-1,\n",
    "                # повернуть подписи вертикально\n",
    "                orientation = \"right\",\n",
    "                leaf_rotation=0.)\n"
   ]
  },
  {
   "cell_type": "code",
   "execution_count": 26,
   "metadata": {},
   "outputs": [],
   "source": [
    "df['cluster'] = fcluster(link, 5.5, criterion='distance')"
   ]
  },
  {
   "cell_type": "code",
   "execution_count": 32,
   "metadata": {},
   "outputs": [],
   "source": [
    "df['cluster_2'] = fcluster(link_2, 1.2, criterion='distance')"
   ]
  },
  {
   "cell_type": "code",
   "execution_count": 28,
   "metadata": {},
   "outputs": [
    {
     "data": {
      "text/plain": [
       "Country\n",
       "Poland            1\n",
       "USSR              1\n",
       "Czechoslovakia    1\n",
       "E_Germany         1\n",
       "Hungary           1\n",
       "Sweden            2\n",
       "Norway            2\n",
       "Denmark           2\n",
       "Finland           2\n",
       "Netherlands       3\n",
       "W_Germany         3\n",
       "France            3\n",
       "UK                3\n",
       "Switzerland       3\n",
       "Belgium           3\n",
       "Austria           3\n",
       "Ireland           3\n",
       "Albania           4\n",
       "Yugoslavia        4\n",
       "Romania           4\n",
       "Bulgaria          4\n",
       "Portugal          5\n",
       "Greece            5\n",
       "Spain             5\n",
       "Italy             5\n",
       "Name: cluster, dtype: int32"
      ]
     },
     "execution_count": 28,
     "metadata": {},
     "output_type": "execute_result"
    }
   ],
   "source": [
    "df['cluster'].sort_values()"
   ]
  },
  {
   "cell_type": "code",
   "execution_count": 33,
   "metadata": {},
   "outputs": [
    {
     "data": {
      "text/plain": [
       "Country\n",
       "Sweden            1\n",
       "Norway            1\n",
       "Denmark           1\n",
       "Finland           1\n",
       "Poland            2\n",
       "USSR              2\n",
       "Czechoslovakia    2\n",
       "E_Germany         2\n",
       "Hungary           2\n",
       "Netherlands       3\n",
       "W_Germany         3\n",
       "France            3\n",
       "UK                3\n",
       "Switzerland       3\n",
       "Belgium           3\n",
       "Austria           3\n",
       "Ireland           3\n",
       "Albania           4\n",
       "Yugoslavia        4\n",
       "Romania           4\n",
       "Bulgaria          4\n",
       "Portugal          5\n",
       "Greece            5\n",
       "Spain             5\n",
       "Italy             5\n",
       "Name: cluster_2, dtype: int32"
      ]
     },
     "execution_count": 33,
     "metadata": {},
     "output_type": "execute_result"
    }
   ],
   "source": [
    "df['cluster_2'].sort_values()"
   ]
  },
  {
   "cell_type": "code",
   "execution_count": null,
   "metadata": {},
   "outputs": [],
   "source": []
  },
  {
   "cell_type": "code",
   "execution_count": null,
   "metadata": {},
   "outputs": [],
   "source": []
  },
  {
   "cell_type": "code",
   "execution_count": null,
   "metadata": {},
   "outputs": [],
   "source": []
  },
  {
   "cell_type": "code",
   "execution_count": null,
   "metadata": {},
   "outputs": [],
   "source": []
  },
  {
   "cell_type": "code",
   "execution_count": null,
   "metadata": {},
   "outputs": [],
   "source": []
  },
  {
   "cell_type": "markdown",
   "metadata": {},
   "source": [
    "####  Удалено из курса"
   ]
  },
  {
   "cell_type": "code",
   "execution_count": 10,
   "metadata": {},
   "outputs": [],
   "source": [
    "#  Напоминание: выбор столбца таблицы в Pandas\n",
    "\n",
    "#  print(df[\"COKE\"])"
   ]
  },
  {
   "cell_type": "code",
   "execution_count": 7,
   "metadata": {},
   "outputs": [
    {
     "data": {
      "text/plain": [
       "0"
      ]
     },
     "execution_count": 7,
     "metadata": {},
     "output_type": "execute_result"
    }
   ],
   "source": [
    "#  Напоминание: выбор элемента таблицы в Pandas\n",
    "\n",
    "df[\"D_PEPSI\"][3]"
   ]
  },
  {
   "cell_type": "code",
   "execution_count": 23,
   "metadata": {},
   "outputs": [
    {
     "data": {
      "text/plain": [
       "Text(22, 2.6, '4 кластера')"
      ]
     },
     "execution_count": 23,
     "metadata": {},
     "output_type": "execute_result"
    },
    {
     "data": {
      "image/png": "[encoded data removed]",
      "text/plain": [
       "<Figure size 432x288 with 1 Axes>"
      ]
     },
     "metadata": {
      "needs_background": "light"
     },
     "output_type": "display_data"
    }
   ],
   "source": [
    "#  Добавляем уровни, на которых останавливаем объединение\n",
    "\n",
    "dist_rev = dist[::-1]\n",
    "idxs = range(1, len(dist) + 1)\n",
    "plt.plot(idxs, dist_rev, marker='o')\n",
    "plt.title('Расстояние между объединяемыми кластерами')\n",
    "plt.xlabel('Шаг объединения')\n",
    "plt.ylabel('Расстояние')\n",
    "plt.axhline(3, c='k', linestyle='dashed')\n",
    "plt.axhline(2.52, c='k', linestyle='dashed')\n",
    "plt.text(25, 3.1, '3 кластера')\n",
    "plt.text(22, 2.6, '4 кластера')"
   ]
  }
 ],
 "metadata": {
  "kernelspec": {
   "display_name": "Python 3 (ipykernel)",
   "language": "python",
   "name": "python3"
  },
  "language_info": {
   "codemirror_mode": {
    "name": "ipython",
    "version": 3
   },
   "file_extension": ".py",
   "mimetype": "text/x-python",
   "name": "python",
   "nbconvert_exporter": "python",
   "pygments_lexer": "ipython3",
   "version": "3.10.11"
  }
 },
 "nbformat": 4,
 "nbformat_minor": 4
}
